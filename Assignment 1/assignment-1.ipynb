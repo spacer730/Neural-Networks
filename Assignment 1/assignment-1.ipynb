{
 "cells": [
  {
   "cell_type": "code",
   "execution_count": 138,
   "metadata": {
    "collapsed": true
   },
   "outputs": [],
   "source": [
    "import numpy as np\n",
    "import heapq\n",
    "\n",
    "folder = 'C:/Users/Jemandes/Documents/Dropbox/Leiden U/Neural Networks/data/'"
   ]
  },
  {
   "cell_type": "code",
   "execution_count": 107,
   "metadata": {
    "collapsed": false
   },
   "outputs": [],
   "source": [
    "train_file_raw = open(folder + 'test_in.csv').readlines()\n",
    "train_values = open(folder + 'test_out.csv').readlines()\n",
    "train_file = np.zeros((len(train_file_raw), 257))\n",
    "train_list = np.zeros((len(train_values), 1))\n",
    "\n",
    "Digits = np.zeros((10, 257))\n",
    "Digits[:,0] = np.linspace(0, 9, 10)\n",
    "dist = np.zeros((10,10))"
   ]
  },
  {
   "cell_type": "code",
   "execution_count": 108,
   "metadata": {
    "collapsed": false
   },
   "outputs": [],
   "source": [
    "# make list of outputs\n",
    "for i, im in enumerate(train_values):\n",
    "    train_list[i,0] = im\n",
    "# make combined array: first number is output\n",
    "for i, image in enumerate(train_file_raw):\n",
    "    val = image.split(',')\n",
    "    train_file[i,0] = train_list[i,0]\n",
    "    for j, el in enumerate( train_file[i,:][1:] ):\n",
    "        train_file[i,j+1] = val[j]"
   ]
  },
  {
   "cell_type": "code",
   "execution_count": 114,
   "metadata": {
    "collapsed": false
   },
   "outputs": [
    {
     "name": "stdout",
     "output_type": "stream",
     "text": [
      "[ 0.    -1.    -1.    -1.    -1.    -1.    -0.966 -0.237  0.847  0.393\n",
      " -0.839 -1.    -1.    -1.    -1.    -1.    -1.    -1.    -1.    -1.    -1.\n",
      " -1.     0.323  1.     1.     1.     0.33  -1.    -1.    -1.    -1.    -1.\n",
      " -1.    -1.    -1.    -1.    -1.    -0.459  0.899  1.     1.     1.     0.442\n",
      " -1.    -1.    -1.    -1.    -1.    -1.    -1.    -1.    -1.    -0.378\n",
      "  0.934  1.     1.     1.     0.994 -0.695 -1.    -1.    -1.    -1.    -1.\n",
      " -1.    -1.    -1.    -0.955  0.755  1.     1.     1.     1.     1.    -0.156\n",
      " -0.999 -1.    -1.    -1.    -1.    -1.    -1.    -1.    -0.057  1.     1.\n",
      "  0.791  0.594  1.     1.     1.     0.335 -0.844 -1.    -1.    -1.    -1.\n",
      " -1.    -0.87   0.853  1.     1.     0.005 -0.976 -0.415  0.906  1.     1.\n",
      "  0.673 -0.817 -1.    -1.    -1.    -1.    -0.591  1.     1.     0.378\n",
      " -0.976 -1.    -1.    -0.51   0.891  1.     1.     0.728 -0.789 -1.    -1.\n",
      " -1.     0.194  1.     1.    -0.434 -1.    -1.    -1.    -1.    -0.578\n",
      "  0.851  1.     1.     0.38  -0.998 -1.    -0.947  0.721  1.     0.723\n",
      " -0.941 -1.    -1.    -1.    -1.    -1.    -0.723  0.452  1.     1.    -0.61\n",
      " -1.    -0.929  1.     1.     0.202 -1.    -1.    -1.    -1.    -1.    -1.\n",
      " -1.    -0.917  0.461  1.     0.68  -0.951 -0.995  0.98   1.     0.237 -1.\n",
      " -1.    -1.    -1.    -1.    -1.    -1.    -0.698  0.667  1.     0.532\n",
      " -0.972 -1.     0.899  1.     0.923 -0.601 -1.    -1.    -1.    -1.    -0.883\n",
      " -0.151  0.913  0.963  0.303 -0.745 -1.    -1.     0.096  1.     1.     0.903\n",
      "  0.686  0.12   0.45   0.76   0.829  1.     0.841 -0.204 -1.    -1.    -1.\n",
      " -1.    -0.961  0.256  1.     1.     1.     1.     1.     1.     1.     0.682\n",
      " -0.62  -1.    -1.    -1.    -1.    -1.    -1.    -0.981 -0.17   0.543  1.\n",
      "  1.     1.     0.51  -0.165 -0.884 -1.    -1.    -1.    -1.    -1.   ]\n"
     ]
    }
   ],
   "source": [
    "print (train_file[0,:])"
   ]
  },
  {
   "cell_type": "code",
   "execution_count": 122,
   "metadata": {
    "collapsed": false
   },
   "outputs": [
    {
     "name": "stdout",
     "output_type": "stream",
     "text": [
      "224\n",
      "121\n",
      "101\n",
      "79\n",
      "86\n",
      "55\n",
      "90\n",
      "64\n",
      "92\n",
      "88\n"
     ]
    }
   ],
   "source": [
    "# Calc center of coords\n",
    "\n",
    "for digit in (Digits):\n",
    "    number = len([x for x in train_file if int(x[0]) == int(digit[0])])\n",
    "    print (number)\n",
    "    for i in range(256):\n",
    "        digit[i+1] = sum([x[i+1] for x in train_file if x[0] == digit[0]])/number"
   ]
  },
  {
   "cell_type": "code",
   "execution_count": 123,
   "metadata": {
    "collapsed": true
   },
   "outputs": [
    {
     "name": "stdout",
     "output_type": "stream",
     "text": [
      "[  8.00000000e+00  -9.96847826e-01  -9.61369565e-01  -8.90250000e-01\n",
      "  -7.60380435e-01  -5.31119565e-01  -1.95978261e-01   9.17065217e-02\n",
      "   1.96565217e-01   1.32554348e-01  -6.98152174e-02  -3.51000000e-01\n",
      "  -6.71358696e-01  -9.19336957e-01  -9.77445652e-01  -9.95597826e-01\n",
      "  -1.00000000e+00  -9.62934783e-01  -8.71586957e-01  -7.30065217e-01\n",
      "  -3.71130435e-01   8.31413043e-02   4.44673913e-01   5.20586957e-01\n",
      "   4.71293478e-01   3.43434783e-01   2.87021739e-01   1.38119565e-01\n",
      "  -7.08804348e-02  -6.06815217e-01  -8.91054348e-01  -9.58228261e-01\n",
      "  -9.93782609e-01  -9.41967391e-01  -8.29239130e-01  -6.42195652e-01\n",
      "  -1.86728261e-01   2.68945652e-01   3.50586957e-01   7.22717391e-02\n",
      "  -1.41413043e-01  -2.88347826e-01  -8.77500000e-02   5.82065217e-02\n",
      "   6.16847826e-02  -3.72826087e-01  -7.73608696e-01  -9.02804348e-01\n",
      "  -9.78554348e-01  -9.59467391e-01  -7.93847826e-01  -5.67152174e-01\n",
      "  -1.46315217e-01   3.50597826e-01   2.02923913e-01  -3.87673913e-01\n",
      "  -6.34804348e-01  -5.75423913e-01  -2.48130435e-01   8.50326087e-02\n",
      "   1.30717391e-01  -1.66684783e-01  -6.60858696e-01  -8.54695652e-01\n",
      "  -9.70076087e-01  -9.73684783e-01  -8.32260870e-01  -6.29717391e-01\n",
      "  -2.22380435e-01   2.26858696e-01   1.53293478e-01  -4.32586957e-01\n",
      "  -6.31706522e-01  -5.22119565e-01  -2.04260870e-01   2.61152174e-01\n",
      "   1.48543478e-01  -1.53434783e-01  -5.71173913e-01  -8.55554348e-01\n",
      "  -9.91326087e-01  -9.72630435e-01  -8.85467391e-01  -7.09956522e-01\n",
      "  -3.69815217e-01   4.15108696e-02   1.70706522e-01  -1.59423913e-01\n",
      "  -3.52152174e-01  -1.79000000e-01   1.71782609e-01   3.67130435e-01\n",
      "   5.38478261e-02  -3.61902174e-01  -6.56304348e-01  -8.95130435e-01\n",
      "  -9.65163043e-01  -9.87315217e-01  -9.32663043e-01  -7.83782609e-01\n",
      "  -5.80358696e-01  -1.40315217e-01   1.52423913e-01   3.22891304e-01\n",
      "   1.73510870e-01   3.00695652e-01   4.58032609e-01   2.83260870e-01\n",
      "  -2.35130435e-01  -5.77739130e-01  -7.89673913e-01  -9.27956522e-01\n",
      "  -9.91326087e-01  -1.00000000e+00  -9.80206522e-01  -8.81793478e-01\n",
      "  -6.89195652e-01  -3.56815217e-01   6.63260870e-02   4.90934783e-01\n",
      "   5.96663043e-01   5.53206522e-01   3.37097826e-01  -1.14739130e-01\n",
      "  -5.02141304e-01  -7.12304348e-01  -8.55695652e-01  -9.71750000e-01\n",
      "  -9.98804348e-01  -9.98978261e-01  -9.81032609e-01  -8.83641304e-01\n",
      "  -7.09673913e-01  -4.75956522e-01  -2.30652174e-02   5.27934783e-01\n",
      "   7.25086957e-01   5.69902174e-01   1.46510870e-01  -3.65043478e-01\n",
      "  -5.86260870e-01  -7.67793478e-01  -9.43826087e-01  -9.60315217e-01\n",
      "  -9.86717391e-01  -9.94065217e-01  -9.50652174e-01  -8.23869565e-01\n",
      "  -6.73021739e-01  -3.98347826e-01   1.01271739e-01   4.10043478e-01\n",
      "   4.94804348e-01   4.28293478e-01   6.54565217e-02  -3.89043478e-01\n",
      "  -5.50782609e-01  -7.41652174e-01  -9.19010870e-01  -9.62554348e-01\n",
      "  -9.75380435e-01  -9.85467391e-01  -9.31021739e-01  -7.93434783e-01\n",
      "  -5.85021739e-01  -1.89130435e-01   1.69467391e-01   1.23489130e-01\n",
      "   2.14456522e-02   7.59130435e-02   5.95652174e-03  -2.78423913e-01\n",
      "  -5.04293478e-01  -7.25097826e-01  -8.48652174e-01  -9.46706522e-01\n",
      "  -9.79836957e-01  -9.82326087e-01  -9.33434783e-01  -7.92315217e-01\n",
      "  -4.39489130e-01  -1.52717391e-02   1.76500000e-01  -1.06097826e-01\n",
      "  -4.05967391e-01  -1.82934783e-01   2.30108696e-02  -1.04086957e-01\n",
      "  -3.91152174e-01  -6.92554348e-01  -8.36619565e-01  -9.47336957e-01\n",
      "  -9.86913043e-01  -9.86358696e-01  -9.36206522e-01  -8.34391304e-01\n",
      "  -4.46521739e-01   3.12717391e-02   1.56032609e-01  -1.75076087e-01\n",
      "  -5.62815217e-01  -3.05130435e-01   1.32423913e-01   4.06304348e-02\n",
      "  -2.50445652e-01  -6.51913043e-01  -8.45706522e-01  -9.71586957e-01\n",
      "  -9.96782609e-01  -9.93597826e-01  -9.48750000e-01  -8.76858696e-01\n",
      "  -5.48032609e-01   1.30326087e-02   1.64119565e-01   6.46521739e-02\n",
      "  -2.21978261e-01   1.35760870e-02   4.11369565e-01   2.19913043e-01\n",
      "  -2.30010870e-01  -6.81434783e-01  -9.12978261e-01  -9.99336957e-01\n",
      "  -1.00000000e+00  -9.99771739e-01  -9.81467391e-01  -9.29043478e-01\n",
      "  -7.44869565e-01  -2.32608696e-01   2.82293478e-01   5.77347826e-01\n",
      "   6.14608696e-01   7.22173913e-01   6.00206522e-01   8.20000000e-02\n",
      "  -5.02652174e-01  -8.61000000e-01  -9.64010870e-01  -9.99978261e-01\n",
      "  -1.00000000e+00  -1.00000000e+00  -9.98119565e-01  -9.81554348e-01\n",
      "  -9.46739130e-01  -7.95728261e-01  -3.33097826e-01   2.27076087e-01\n",
      "   5.21065217e-01   3.92434783e-01  -9.12065217e-02  -5.55771739e-01\n",
      "  -8.66413043e-01  -9.51163043e-01  -9.75586957e-01  -9.99304348e-01\n",
      "  -1.00000000e+00]\n"
     ]
    }
   ],
   "source": [
    "print (Digits[8,:])"
   ]
  },
  {
   "cell_type": "code",
   "execution_count": 124,
   "metadata": {
    "collapsed": false
   },
   "outputs": [
    {
     "name": "stdout",
     "output_type": "stream",
     "text": [
      "0 224\n",
      "1 121\n",
      "2 101\n",
      "3 79\n",
      "4 86\n",
      "5 55\n",
      "6 90\n",
      "7 64\n",
      "8 92\n",
      "9 88\n"
     ]
    }
   ],
   "source": [
    "# Calc number of points belonging to a digit\n",
    "for i in range (10):\n",
    "    print (i,len([x for x in train_file if x[0] == i]))"
   ]
  },
  {
   "cell_type": "code",
   "execution_count": 125,
   "metadata": {
    "collapsed": false
   },
   "outputs": [
    {
     "name": "stdout",
     "output_type": "stream",
     "text": [
      "0.0 16.2844421617\n",
      "1.0 10.0472608381\n",
      "2.0 13.7213961144\n",
      "3.0 13.8712356145\n",
      "4.0 14.0595973531\n",
      "5.0 14.3394141919\n",
      "6.0 13.7792663711\n",
      "7.0 13.2656398998\n",
      "8.0 14.7863503116\n",
      "9.0 14.400636271\n"
     ]
    }
   ],
   "source": [
    "# Calc radius of coords\n",
    "\n",
    "for digit in (Digits):\n",
    "    print (digit[0], max([np.sqrt(np.sum( (digit[1:]-x[1:])**2 )) for x in train_file if x[0] == digit[0]]))"
   ]
  },
  {
   "cell_type": "code",
   "execution_count": 126,
   "metadata": {
    "collapsed": false
   },
   "outputs": [],
   "source": [
    "# Calc distances\n",
    "\n",
    "for i in range(10):\n",
    "    for j in range(10):\n",
    "        dist[i,j] = np.sqrt(np.sum( (Digits[i,1:]-Digits[j,1:])**2 ))"
   ]
  },
  {
   "cell_type": "code",
   "execution_count": 143,
   "metadata": {
    "collapsed": false,
    "scrolled": true
   },
   "outputs": [
    {
     "name": "stdout",
     "output_type": "stream",
     "text": [
      "0 7.0 1 14.1\n",
      "[  0.          14.11632505   8.4676043    8.41851306  10.42238041\n",
      "   7.1602956    8.07245358  11.2664355    9.35279618  11.16367646]\n",
      "1 9.0 1 14.1\n",
      "[ 14.11632505   0.           9.93729726  11.09284496  10.16774664\n",
      "  10.70190271  10.3942642   10.18027021   9.8649275    9.35390531]\n",
      "2 6.0 1 9.9\n",
      "[ 8.4676043   9.93729726  0.          6.81556273  7.45825589  7.18893224\n",
      "  7.26266021  7.78517696  6.27333601  8.1040591 ]\n",
      "3 5.0 1 11.1\n",
      "[  8.41851306  11.09284496   6.81556273   0.           8.90393736\n",
      "   5.22130493   8.67915869   8.15744542   6.44789738   7.87878536]\n",
      "4 6.0 1 10.4\n",
      "[ 10.42238041  10.16774664   7.45825589   8.90393736   0.           8.0336445\n",
      "   8.9923067    6.77080263   7.06294536   5.87749827]\n",
      "5 5.0 1 10.7\n",
      "[  7.1602956   10.70190271   7.18893224   5.22130493   8.0336445    0.\n",
      "   6.67756065   8.58367972   6.86045913   8.15238098]\n",
      "6 7.0 1 10.7\n",
      "[  8.07245358  10.3942642    7.26266021   8.67915869   8.9923067\n",
      "   6.67756065   0.          10.65956987   8.27917452  10.15101593]\n",
      "7 5.0 1 11.3\n",
      "[ 11.2664355   10.18027021   7.78517696   8.15744542   6.77080263\n",
      "   8.58367972  10.65956987   0.           7.8780343    5.00715317]\n",
      "8 6.0 1 9.9\n",
      "[ 9.35279618  9.8649275   6.27333601  6.44789738  7.06294536  6.86045913\n",
      "  8.27917452  7.8780343   0.          6.22129921]\n",
      "9 5.0 1 11.2\n",
      "[ 11.16367646   9.35390531   8.1040591    7.87878536   5.87749827\n",
      "   8.15238098  10.15101593   5.00715317   6.22129921   0.        ]\n"
     ]
    }
   ],
   "source": [
    "# Show distances\n",
    "\n",
    "# digit, smallest distance from its center to another\n",
    "# all distances\n",
    "for i in range(10):\n",
    "    print (i, round(heapq.nsmallest(2, dist[i,:])[1]),1, round(max(dist[i,:]),1))\n",
    "    print (dist[i,:])"
   ]
  },
  {
   "cell_type": "markdown",
   "metadata": {},
   "source": [
    "## We see:\n",
    "1. The digit $1$ has the significantly smallest radius with 10px.\n",
    "That means that most \"ones\" are written more similar, i.e. rather covering the same pixels, as the other digits.\n",
    "2. The other digits have radiuses between 13 ($7$) and 14.8 ($8$).\n",
    "3. The digit $0$ has the biggest radius with 16.3. Thus, the \"zeroes\" are written rather differently.\n",
    "4. Two pairs whose centers are closest together are the digits $3$ and $5$, as well as $9$ and $7$.\n",
    "In both cases, the clouds have distances to each other of just 5px.\n",
    "Thus, these digits are hardest to distinguish.\n",
    "5. The two digits whose centers are farthest from each other and thus are easiest to distinguish are $0$ and $1$.\n",
    "6. The maximal radius of any of these clouds is up to three times bigger than the distance between two clouds.\n",
    "This renders this approach's reliability questionable; although a statistical analysis of the clouds and an inspection of their individual $\\sigma$ is needed to support this assertion."
   ]
  },
  {
   "cell_type": "code",
   "execution_count": null,
   "metadata": {
    "collapsed": true
   },
   "outputs": [],
   "source": []
  }
 ],
 "metadata": {
  "anaconda-cloud": {},
  "kernelspec": {
   "display_name": "Python 3",
   "language": "python",
   "name": "python3"
  },
  "language_info": {
   "codemirror_mode": {
    "name": "ipython",
    "version": 3
   },
   "file_extension": ".py",
   "mimetype": "text/x-python",
   "name": "python",
   "nbconvert_exporter": "python",
   "pygments_lexer": "ipython3",
   "version": "3.6.4"
  }
 },
 "nbformat": 4,
 "nbformat_minor": 1
}
